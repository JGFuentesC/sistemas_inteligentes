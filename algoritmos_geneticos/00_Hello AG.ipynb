{
 "cells": [
  {
   "cell_type": "markdown",
   "id": "flying-alexandria",
   "metadata": {},
   "source": [
    "## Dependencias"
   ]
  },
  {
   "cell_type": "code",
   "execution_count": 10,
   "id": "recreational-trade",
   "metadata": {
    "ExecuteTime": {
     "end_time": "2021-05-04T13:24:08.101114Z",
     "start_time": "2021-05-04T13:24:07.477155Z"
    }
   },
   "outputs": [],
   "source": [
    "import numpy as np\n",
    "import pandas as pd\n",
    "from itertools import chain\n",
    "import matplotlib.pyplot as plt\n",
    "import seaborn as sns"
   ]
  },
  {
   "cell_type": "markdown",
   "id": "popular-lingerie",
   "metadata": {},
   "source": [
    "## Población Inicial"
   ]
  },
  {
   "cell_type": "code",
   "execution_count": 11,
   "id": "desperate-vitamin",
   "metadata": {
    "ExecuteTime": {
     "end_time": "2021-05-04T13:25:02.773756Z",
     "start_time": "2021-05-04T13:25:02.508329Z"
    }
   },
   "outputs": [],
   "source": [
    "def crear_individuo(num_genes=20):\n",
    "    return \"\".join([str(int(x>0.5)) for x in np.random.uniform(size=num_genes)])\n",
    "\n",
    "num_genes = 10\n",
    "tam_pob = 100\n",
    "pob = [crear_individuo(num_genes=num_genes) for _ in range(tam_pob)]"
   ]
  },
  {
   "cell_type": "markdown",
   "id": "equal-squad",
   "metadata": {},
   "source": [
    "## Selección"
   ]
  },
  {
   "cell_type": "code",
   "execution_count": 12,
   "id": "basic-teaching",
   "metadata": {
    "ExecuteTime": {
     "end_time": "2021-05-04T13:27:33.257507Z",
     "start_time": "2021-05-04T13:27:33.117201Z"
    }
   },
   "outputs": [],
   "source": [
    "def objetivo(x):\n",
    "    return sum([int(g) for g in x])\n",
    "\n",
    "def seleccion(objetivo,pob,k = 3):\n",
    "    pob = pd.DataFrame({'x':pob}).sample(k)\n",
    "    pob['aptitud'] = pob['x'].map(objetivo)\n",
    "    pob.sort_values(by='aptitud',inplace=True)\n",
    "    return pob.tail(1)['x'].values[0]\n",
    "\n",
    "aptos = [seleccion(objetivo,pob) for _ in range(tam_pob)]"
   ]
  },
  {
   "cell_type": "code",
   "execution_count": 13,
   "id": "undefined-trial",
   "metadata": {
    "ExecuteTime": {
     "end_time": "2021-05-04T13:27:33.758300Z",
     "start_time": "2021-05-04T13:27:33.749700Z"
    }
   },
   "outputs": [
    {
     "data": {
      "text/plain": [
       "['1111011011', '0111101100']"
      ]
     },
     "execution_count": 13,
     "metadata": {},
     "output_type": "execute_result"
    }
   ],
   "source": [
    "aptos[:2]"
   ]
  },
  {
   "cell_type": "markdown",
   "id": "familiar-spank",
   "metadata": {},
   "source": [
    "## Reproducción"
   ]
  },
  {
   "cell_type": "code",
   "execution_count": 14,
   "id": "known-wilson",
   "metadata": {
    "ExecuteTime": {
     "end_time": "2021-05-04T13:30:30.498134Z",
     "start_time": "2021-05-04T13:30:30.494458Z"
    }
   },
   "outputs": [],
   "source": [
    "def combinacion(padre1,padre2,proba):\n",
    "    #Los hijos son por defecto copias de los padres\n",
    "    padre1 = [g for g in padre1]\n",
    "    padre2 = [g for g in padre2]\n",
    "    hijos = [padre1,padre2]\n",
    "    if np.random.uniform()<proba:\n",
    "        #Seleccionar un punto de combinación que no esté en los extremos\n",
    "        i = np.random.choice(range(1,len(padre1)-1))\n",
    "        hijos = padre1[:i]+padre2[i:],padre2[:i]+padre1[i:]\n",
    "    return [\"\".join(h) for h in hijos]"
   ]
  },
  {
   "cell_type": "markdown",
   "id": "indie-butterfly",
   "metadata": {},
   "source": [
    "## Mutación"
   ]
  },
  {
   "cell_type": "code",
   "execution_count": 15,
   "id": "homeless-visitor",
   "metadata": {
    "ExecuteTime": {
     "end_time": "2021-05-04T13:31:39.755665Z",
     "start_time": "2021-05-04T13:31:39.752718Z"
    }
   },
   "outputs": [],
   "source": [
    "def mutacion(individuo,proba=0.5):\n",
    "    return \"\".join([str(1-int(g)) if r<proba else g  for g,r in zip(individuo,\n",
    "                                                                    np.random.uniform(size=len(individuo)))])"
   ]
  },
  {
   "cell_type": "code",
   "execution_count": 16,
   "id": "finite-stewart",
   "metadata": {
    "ExecuteTime": {
     "end_time": "2021-05-04T13:32:12.921703Z",
     "start_time": "2021-05-04T13:32:12.884791Z"
    }
   },
   "outputs": [],
   "source": [
    "hijos = [combinacion(*aptos[i:i+2],0.8) for i in range(0,100,2)]\n",
    "hijos = list(map(lambda x: mutacion(x),chain(*hijos)))"
   ]
  },
  {
   "cell_type": "markdown",
   "id": "isolated-journalism",
   "metadata": {},
   "source": [
    "## Algoritmo genético"
   ]
  },
  {
   "cell_type": "code",
   "execution_count": 17,
   "id": "dated-trader",
   "metadata": {
    "ExecuteTime": {
     "end_time": "2021-05-04T13:33:50.020758Z",
     "start_time": "2021-05-04T13:33:50.016043Z"
    }
   },
   "outputs": [],
   "source": [
    "def alg_genetico(objetivo,\n",
    "                 n_genes=20,\n",
    "                 n_generaciones=100,\n",
    "                 tam_pob=100,\n",
    "                 proba_comb=0.9,\n",
    "                 proba_mut=1/20):\n",
    "    pob = [crear_individuo(num_genes=n_genes) for _ in range(tam_pob)]\n",
    "    for gen in range(n_generaciones):\n",
    "        aptos = [seleccion(objetivo,pob) for _ in range(tam_pob)]\n",
    "        hijos = [combinacion(*aptos[i:i+2],proba_comb) for i in range(0,tam_pob,2)]\n",
    "        hijos = list(map(lambda x: mutacion(x,proba=proba_mut),chain(*hijos))) \n",
    "        pob = hijos[:]\n",
    "    pob = pd.DataFrame({'x':pob})\n",
    "    pob['aptitud'] = pob['x'].map(objetivo)\n",
    "    pob.sort_values(by='aptitud',inplace=True)\n",
    "    return pob.tail(1).values.tolist()[0]"
   ]
  },
  {
   "cell_type": "code",
   "execution_count": 18,
   "id": "clinical-province",
   "metadata": {
    "ExecuteTime": {
     "end_time": "2021-05-04T13:34:14.407109Z",
     "start_time": "2021-05-04T13:34:14.285656Z"
    }
   },
   "outputs": [
    {
     "data": {
      "text/plain": [
       "['11111111111111111111', 20]"
      ]
     },
     "execution_count": 18,
     "metadata": {},
     "output_type": "execute_result"
    }
   ],
   "source": [
    "alg_genetico(objetivo,n_generaciones=10)"
   ]
  },
  {
   "cell_type": "markdown",
   "id": "floppy-angle",
   "metadata": {},
   "source": [
    "## Optimización continua $Z=\\exp({-\\frac{1}{3}x^{3}+x-y^{2}})$ "
   ]
  },
  {
   "cell_type": "code",
   "execution_count": 19,
   "id": "jewish-stability",
   "metadata": {
    "ExecuteTime": {
     "end_time": "2021-05-04T13:38:00.751550Z",
     "start_time": "2021-05-04T13:37:46.836972Z"
    }
   },
   "outputs": [
    {
     "name": "stdout",
     "output_type": "stream",
     "text": [
      "['10111111111111110111111111111111', (0.99993896484375, -6.103515625e-05), 1.947734026543074]\n"
     ]
    }
   ],
   "source": [
    "espacio_de_busqueda = [[-2,2],[-2,2]]\n",
    "n_genes = 32\n",
    "tam_pob = 100\n",
    "p_mutacion = 1/(n_genes*len(espacio_de_busqueda))\n",
    "\n",
    "def Z(x,y):\n",
    "    return np.exp(-1/3*x**3+x-y**2)\n",
    "\n",
    "def decode(limites,n_genes,x):\n",
    "    max_ = 2**(n_genes//2)\n",
    "    x = [int(x[i*n_genes//2:n_genes//2*(i+1)],2) for i in range(len(limites))]\n",
    "    x = [limites[i][0]+(v/max_)*(limites[i][1]-limites[i][0]) for i,v in enumerate(x)]\n",
    "    return tuple(x)\n",
    "\n",
    "def seleccion(objetivo,pob,k = 3,decodificar=False):\n",
    "    if decodificar:\n",
    "        decodificados = list(map(lambda x:decode(espacio_de_busqueda,n_genes,x),pob))\n",
    "        pob = pd.DataFrame({'x':pob,'d':decodificados}).sample(k)\n",
    "        pob['aptitud'] = pob['d'].map(lambda x:objetivo(*x))\n",
    "    else:\n",
    "        pob = pd.DataFrame({'x':pob}).sample(k)\n",
    "        pob['aptitud'] = pob['x'].map(lambda x:objetivo(x))\n",
    "    \n",
    "    pob.sort_values(by='aptitud',inplace=True)\n",
    "    return pob.tail(1)['x'].values[0]\n",
    "\n",
    "pob = [crear_individuo(num_genes=n_genes) for _ in range(tam_pob)]\n",
    "\n",
    "def alg_genetico(objetivo,\n",
    "                 n_genes=20,\n",
    "                 n_generaciones=100,\n",
    "                 tam_pob=100,\n",
    "                 proba_comb=0.9,\n",
    "                 proba_mut=1/20,\n",
    "                 tam_muestra = 3,\n",
    "                 decodificar=True):\n",
    "    pob = [crear_individuo(num_genes=n_genes) for _ in range(tam_pob)]\n",
    "    \n",
    "    for gen in range(n_generaciones):\n",
    "        aptos = [seleccion(objetivo,pob,k=tam_muestra,decodificar=decodificar) for _ in range(tam_pob)]\n",
    "        hijos = [combinacion(*aptos[i:i+2],proba_comb) for i in range(0,tam_pob,2)]\n",
    "        hijos = list(map(lambda x: mutacion(x,proba=proba_mut),chain(*hijos))) \n",
    "        pob = hijos[:]\n",
    "    if decodificar:\n",
    "        decodificados = list(map(lambda x:decode(espacio_de_busqueda,n_genes,x),pob))\n",
    "        pob = pd.DataFrame({'x':pob,'d':decodificados})\n",
    "        pob['aptitud'] = pob['d'].map(lambda x:objetivo(*x))\n",
    "    else:\n",
    "        pob = pd.DataFrame({'x':pob})\n",
    "        pob['aptitud'] = pob['x'].map(objetivo)\n",
    "    pob.sort_values(by='aptitud',inplace=True)\n",
    "    return pob.tail(1).values.tolist()[0]\n",
    "\n",
    "\n",
    "print(alg_genetico(Z,\n",
    "                   n_genes=n_genes,\n",
    "                   tam_pob=tam_pob,\n",
    "                   proba_mut=p_mutacion,\n",
    "                   n_generaciones=100,\n",
    "                   decodificar=True))"
   ]
  },
  {
   "cell_type": "code",
   "execution_count": null,
   "id": "worthy-montgomery",
   "metadata": {},
   "outputs": [],
   "source": []
  },
  {
   "cell_type": "code",
   "execution_count": null,
   "id": "subtle-papua",
   "metadata": {},
   "outputs": [],
   "source": []
  }
 ],
 "metadata": {
  "kernelspec": {
   "display_name": "sistemas inteligentes",
   "language": "python",
   "name": "si"
  },
  "language_info": {
   "codemirror_mode": {
    "name": "ipython",
    "version": 3
   },
   "file_extension": ".py",
   "mimetype": "text/x-python",
   "name": "python",
   "nbconvert_exporter": "python",
   "pygments_lexer": "ipython3",
   "version": "3.11.6"
  },
  "toc": {
   "base_numbering": 1,
   "nav_menu": {},
   "number_sections": true,
   "sideBar": true,
   "skip_h1_title": false,
   "title_cell": "Table of Contents",
   "title_sidebar": "Contents",
   "toc_cell": false,
   "toc_position": {},
   "toc_section_display": true,
   "toc_window_display": false
  }
 },
 "nbformat": 4,
 "nbformat_minor": 5
}
