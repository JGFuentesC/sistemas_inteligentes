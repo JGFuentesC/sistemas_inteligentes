{
 "cells": [
  {
   "cell_type": "code",
   "execution_count": 1,
   "metadata": {},
   "outputs": [],
   "source": [
    "import pygad\n",
    "import numpy as np"
   ]
  },
  {
   "cell_type": "code",
   "execution_count": 2,
   "metadata": {},
   "outputs": [],
   "source": [
    "def funcion_aptitud(ga_instance, solution, solution_idx):\n",
    "    x = solution[0]\n",
    "    y = solution[1]\n",
    "    return np.exp(-1/3*x**3+x-y**2)\n"
   ]
  },
  {
   "cell_type": "code",
   "execution_count": 6,
   "metadata": {},
   "outputs": [],
   "source": [
    "\n",
    "gene_space = {'low': -2, 'high': 2}  # Rango de valores para los genes (x e y)\n",
    "num_generaciones = 100\n",
    "tamano_poblacion = 200\n",
    "num_genes = 2  # Dos genes: x y y\n",
    "\n",
    "# Crear la instancia de PyGAD\n",
    "ga_instance = pygad.GA(num_generations=num_generaciones,\n",
    "                       num_parents_mating=3,\n",
    "                       fitness_func=funcion_aptitud,\n",
    "                       sol_per_pop=tamano_poblacion,\n",
    "                       num_genes=num_genes,\n",
    "                       gene_space=gene_space,\n",
    "                       parent_selection_type=\"sss\",\n",
    "                       keep_parents=2,\n",
    "                       crossover_type=\"single_point\",\n",
    "                       mutation_type=\"random\",\n",
    "                       mutation_percent_genes=10)\n"
   ]
  },
  {
   "cell_type": "code",
   "execution_count": 7,
   "metadata": {},
   "outputs": [],
   "source": [
    "\n",
    "# Correr el algoritmo genético\n",
    "ga_instance.run()\n"
   ]
  },
  {
   "cell_type": "code",
   "execution_count": 8,
   "metadata": {},
   "outputs": [
    {
     "name": "stdout",
     "output_type": "stream",
     "text": [
      "Mejor solución: [1.00014723 0.00100714]\n",
      "Valor de la función con la mejor solución: 1.9477320232030813\n",
      "Índice de la mejor solución: 0\n"
     ]
    }
   ],
   "source": [
    "\n",
    "# Imprimir la mejor solución\n",
    "solution, solution_fitness, solution_idx = ga_instance.best_solution()\n",
    "print(f\"Mejor solución: {solution}\")\n",
    "print(f\"Valor de la función con la mejor solución: {solution_fitness}\")\n",
    "print(f\"Índice de la mejor solución: {solution_idx}\")\n"
   ]
  },
  {
   "cell_type": "code",
   "execution_count": null,
   "metadata": {},
   "outputs": [],
   "source": []
  }
 ],
 "metadata": {
  "kernelspec": {
   "display_name": "sistemas inteligentes",
   "language": "python",
   "name": "si"
  },
  "language_info": {
   "codemirror_mode": {
    "name": "ipython",
    "version": 3
   },
   "file_extension": ".py",
   "mimetype": "text/x-python",
   "name": "python",
   "nbconvert_exporter": "python",
   "pygments_lexer": "ipython3",
   "version": "3.11.6"
  }
 },
 "nbformat": 4,
 "nbformat_minor": 2
}
