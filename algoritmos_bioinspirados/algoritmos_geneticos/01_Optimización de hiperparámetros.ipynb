{
 "cells": [
  {
   "cell_type": "markdown",
   "metadata": {},
   "source": [
    "## Dependencias"
   ]
  },
  {
   "cell_type": "code",
   "execution_count": 2,
   "metadata": {},
   "outputs": [],
   "source": [
    "import numpy as np\n",
    "import pandas as pd\n",
    "import random\n",
    "from sklearn.model_selection import train_test_split\n",
    "from sklearn.preprocessing import StandardScaler\n",
    "from sklearn.neural_network import MLPClassifier\n",
    "from sklearn.metrics import roc_auc_score\n"
   ]
  },
  {
   "cell_type": "markdown",
   "metadata": {},
   "source": [
    "## Espacio de decisión"
   ]
  },
  {
   "cell_type": "code",
   "execution_count": 3,
   "metadata": {},
   "outputs": [],
   "source": [
    "neuronas_capa1_espacio = list(range(2, 200))\n",
    "neuronas_capa2_espacio = list(range(2, 200))\n",
    "funcion_activacion_espacio = ['relu', 'tanh', 'logistic']\n",
    "tasa_aprendizaje_espacio = np.arange(0.0001, 0.1, 0.0001)"
   ]
  },
  {
   "cell_type": "markdown",
   "metadata": {},
   "source": [
    "## Cargar datos "
   ]
  },
  {
   "cell_type": "code",
   "execution_count": 4,
   "metadata": {},
   "outputs": [],
   "source": [
    "datos = pd.read_sas('../data/churn.sas7bdat')\n",
    "X = datos[[v for v in datos.columns if v[:2]=='V_']]\n",
    "y = datos['TARGET']"
   ]
  },
  {
   "cell_type": "markdown",
   "metadata": {},
   "source": [
    "## Escalar datos"
   ]
  },
  {
   "cell_type": "code",
   "execution_count": 5,
   "metadata": {},
   "outputs": [],
   "source": [
    "escalador = StandardScaler()\n",
    "X = escalador.fit_transform(X)"
   ]
  },
  {
   "cell_type": "markdown",
   "metadata": {},
   "source": [
    "## Partición"
   ]
  },
  {
   "cell_type": "code",
   "execution_count": 6,
   "metadata": {},
   "outputs": [],
   "source": [
    "X_entrenamiento, X_prueba, y_entrenamiento, y_prueba = train_test_split(X, \n",
    "                                                                        y, \n",
    "                                                                        test_size=0.3\n",
    "                                                                        )"
   ]
  },
  {
   "cell_type": "markdown",
   "metadata": {},
   "source": [
    "## Evaluación del modelo (función objetivo)"
   ]
  },
  {
   "cell_type": "code",
   "execution_count": 7,
   "metadata": {},
   "outputs": [],
   "source": [
    "def evaluar_modelo(neuronas_capa1, neuronas_capa2, funcion_activacion, tasa_aprendizaje):\n",
    "    modelo = MLPClassifier(hidden_layer_sizes=(neuronas_capa1, neuronas_capa2,),\n",
    "                           activation=funcion_activacion,\n",
    "                           learning_rate_init=tasa_aprendizaje,\n",
    "                           max_iter=500)\n",
    "    \n",
    "    modelo.fit(X_entrenamiento, y_entrenamiento)\n",
    "    y_score = modelo.predict_proba(X_prueba)[:,1]\n",
    "    auc = roc_auc_score(y_prueba, y_score)\n",
    "    return auc"
   ]
  },
  {
   "cell_type": "markdown",
   "metadata": {},
   "source": [
    "## Inicializar población "
   ]
  },
  {
   "cell_type": "code",
   "execution_count": 8,
   "metadata": {},
   "outputs": [],
   "source": [
    "def inicializar_poblacion(tamano_poblacion):\n",
    "    poblacion = []\n",
    "    for _ in range(tamano_poblacion):\n",
    "        neuronas_capa1 = random.choice(neuronas_capa1_espacio)\n",
    "        neuronas_capa2 = random.choice(neuronas_capa2_espacio)\n",
    "        funcion_activacion = random.choice(funcion_activacion_espacio)\n",
    "        tasa_aprendizaje = random.choice(tasa_aprendizaje_espacio)\n",
    "        poblacion.append([neuronas_capa1, neuronas_capa2, funcion_activacion, tasa_aprendizaje])\n",
    "    return poblacion"
   ]
  },
  {
   "cell_type": "markdown",
   "metadata": {},
   "source": [
    "## Evaluar la población"
   ]
  },
  {
   "cell_type": "code",
   "execution_count": 9,
   "metadata": {},
   "outputs": [],
   "source": [
    "def evaluar_poblacion(poblacion):\n",
    "    puntajes_fitness = []\n",
    "    for individuo in poblacion:\n",
    "        neuronas_capa1, neuronas_capa2, funcion_activacion, tasa_aprendizaje = individuo\n",
    "        fitness = evaluar_modelo(neuronas_capa1, neuronas_capa2, funcion_activacion, tasa_aprendizaje)\n",
    "        puntajes_fitness.append(fitness)\n",
    "    return puntajes_fitness"
   ]
  },
  {
   "cell_type": "markdown",
   "metadata": {},
   "source": [
    "## Seleccionar Padres"
   ]
  },
  {
   "cell_type": "code",
   "execution_count": 10,
   "metadata": {},
   "outputs": [],
   "source": [
    "def seleccionar_padres(poblacion, puntajes_fitness, num_padres):\n",
    "    padres = [poblacion[idx] for idx in np.argsort(puntajes_fitness)[-num_padres:]]\n",
    "    return padres"
   ]
  },
  {
   "cell_type": "markdown",
   "metadata": {},
   "source": [
    "## Reproducción"
   ]
  },
  {
   "cell_type": "code",
   "execution_count": 11,
   "metadata": {},
   "outputs": [],
   "source": [
    "def cruce(padres, tamano_descendencia):\n",
    "    descendencia = []\n",
    "    for _ in range(tamano_descendencia):\n",
    "        padre1 = random.choice(padres)\n",
    "        padre2 = random.choice(padres)\n",
    "        \n",
    "        punto_cruce = random.randint(1, len(padre1)-1)\n",
    "        hijo = padre1[:punto_cruce] + padre2[punto_cruce:]\n",
    "        descendencia.append(hijo)\n",
    "    \n",
    "    return descendencia"
   ]
  },
  {
   "cell_type": "markdown",
   "metadata": {},
   "source": [
    "## Mutación"
   ]
  },
  {
   "cell_type": "code",
   "execution_count": 12,
   "metadata": {},
   "outputs": [],
   "source": [
    "def mutacion(descendencia, tasa_mutacion=0.1):\n",
    "    for individuo in descendencia:\n",
    "        if random.random() < tasa_mutacion:\n",
    "            individuo[0] = random.choice(neuronas_capa1_espacio)\n",
    "        if random.random() < tasa_mutacion:\n",
    "            individuo[1] = random.choice(neuronas_capa2_espacio)\n",
    "        if random.random() < tasa_mutacion:\n",
    "            individuo[2] = random.choice(funcion_activacion_espacio)\n",
    "        if random.random() < tasa_mutacion:\n",
    "            individuo[3] = random.choice(tasa_aprendizaje_espacio)\n",
    "    return descendencia\n"
   ]
  },
  {
   "cell_type": "markdown",
   "metadata": {},
   "source": [
    "## Algoritmo Genético"
   ]
  },
  {
   "cell_type": "code",
   "execution_count": 13,
   "metadata": {},
   "outputs": [],
   "source": [
    "def algoritmo_genetico(tamano_poblacion, num_generaciones, num_padres):\n",
    "    poblacion = inicializar_poblacion(tamano_poblacion)\n",
    "    \n",
    "    for generacion in range(num_generaciones):\n",
    "        print(f\"Generación {generacion + 1}\")\n",
    "        \n",
    "        puntajes_fitness = evaluar_poblacion(poblacion)\n",
    "        print(f\"Mejor AUC en esta generación: {max(puntajes_fitness)}\")\n",
    "        \n",
    "        padres = seleccionar_padres(poblacion, puntajes_fitness, num_padres)\n",
    "        \n",
    "        tamano_descendencia = tamano_poblacion - num_padres\n",
    "        descendencia = cruce(padres, tamano_descendencia)\n",
    "        \n",
    "        descendencia = mutacion(descendencia)\n",
    "        \n",
    "        poblacion = padres + descendencia\n",
    "    \n",
    "    puntajes_fitness_finales = evaluar_poblacion(poblacion)\n",
    "    mejor_solucion_idx = np.argmax(puntajes_fitness_finales)\n",
    "    mejor_solucion = poblacion[mejor_solucion_idx]\n",
    "    \n",
    "    print(\"Mejores hiperparámetros encontrados:\")\n",
    "    print(f\"Neuronas en capa 1: {mejor_solucion[0]}\")\n",
    "    print(f\"Neuronas en capa 2: {mejor_solucion[1]}\")\n",
    "    print(f\"Función de activación: {mejor_solucion[2]}\")\n",
    "    print(f\"Tasa de aprendizaje: {mejor_solucion[3]}\")\n",
    "    print(f\"AUC: {puntajes_fitness_finales[mejor_solucion_idx]}\")\n"
   ]
  },
  {
   "cell_type": "code",
   "execution_count": 14,
   "metadata": {},
   "outputs": [
    {
     "name": "stdout",
     "output_type": "stream",
     "text": [
      "Generación 1\n"
     ]
    },
    {
     "name": "stderr",
     "output_type": "stream",
     "text": [
      "/Users/josegustavofuentescabrera/entornos/si/lib/python3.11/site-packages/sklearn/neural_network/_multilayer_perceptron.py:690: ConvergenceWarning: Stochastic Optimizer: Maximum iterations (500) reached and the optimization hasn't converged yet.\n",
      "  warnings.warn(\n"
     ]
    },
    {
     "name": "stdout",
     "output_type": "stream",
     "text": [
      "Mejor AUC en esta generación: 0.8160337283887686\n",
      "Generación 2\n",
      "Mejor AUC en esta generación: 0.8199418036616967\n",
      "Generación 3\n",
      "Mejor AUC en esta generación: 0.8041183467142433\n",
      "Generación 4\n",
      "Mejor AUC en esta generación: 0.8298712883904679\n",
      "Generación 5\n",
      "Mejor AUC en esta generación: 0.8133787859479207\n",
      "Mejores hiperparámetros encontrados:\n",
      "Neuronas en capa 1: 100\n",
      "Neuronas en capa 2: 87\n",
      "Función de activación: tanh\n",
      "Tasa de aprendizaje: 0.034\n",
      "AUC: 0.8304872350367444\n"
     ]
    }
   ],
   "source": [
    "tamano_poblacion = 20\n",
    "num_generaciones = 5\n",
    "num_padres = 4\n",
    "\n",
    "algoritmo_genetico(tamano_poblacion, num_generaciones, num_padres)\n"
   ]
  },
  {
   "cell_type": "code",
   "execution_count": null,
   "metadata": {},
   "outputs": [],
   "source": []
  }
 ],
 "metadata": {
  "kernelspec": {
   "display_name": "sistemas inteligentes",
   "language": "python",
   "name": "si"
  },
  "language_info": {
   "codemirror_mode": {
    "name": "ipython",
    "version": 3
   },
   "file_extension": ".py",
   "mimetype": "text/x-python",
   "name": "python",
   "nbconvert_exporter": "python",
   "pygments_lexer": "ipython3",
   "version": "3.11.6"
  }
 },
 "nbformat": 4,
 "nbformat_minor": 2
}
